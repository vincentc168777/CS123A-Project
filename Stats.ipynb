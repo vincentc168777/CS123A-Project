{
 "cells": [
  {
   "cell_type": "code",
   "execution_count": null,
   "metadata": {},
   "outputs": [
    {
     "name": "stdout",
     "output_type": "stream",
     "text": [
      "\n",
      "Simplified Cytokine Comparison:\n",
      "   Cytokine  Flight_Mean  Ground_Mean  Mean_Diff  Effect_Size  p_value  p_adj\n",
      "0     TNF-α       0.0500       0.0747    -0.0247         0.28   0.5476    1.0\n",
      "1      IL-2       0.2362       0.2236     0.0125        -0.04   1.0000    1.0\n",
      "2     IFN-γ       0.0340       0.0324     0.0016        -0.04   1.0000    1.0\n",
      "3      IL-5       0.1868       0.2000    -0.0132         0.20   0.6905    1.0\n",
      "4      IL-6       2.1740       2.0819     0.0921        -0.04   1.0000    1.0\n",
      "5  IL-12p70       3.8911       4.8232    -0.9320         0.44   0.3095    1.0\n",
      "6     IL-10       0.3846       0.4272    -0.0426         0.20   0.6905    1.0\n",
      "\n",
      "Classification Accuracy (Logistic Regression): 40.00%\n"
     ]
    }
   ],
   "source": [
    "import pandas as pd\n",
    "from scipy.stats import mannwhitneyu\n",
    "from statsmodels.stats.multitest import fdrcorrection\n",
    "from sklearn.linear_model import LogisticRegression\n",
    "from sklearn.model_selection import train_test_split\n",
    "from sklearn.preprocessing import LabelEncoder\n",
    "from sklearn.metrics import accuracy_score\n",
    "\n",
    "df = pd.read_csv('LSDS-112_Immunoassay_Roy_ECLIA_AllTissues_SUBMITTED.csv').dropna(how='all')\n",
    "cytokines = [col for col in df.columns if col not in ['Sample ID', 'Group']]\n",
    "\n",
    "# Compare Flight vs Ground groups\n",
    "results = []\n",
    "for cyto in cytokines:\n",
    "    g1 = df[df['Group'] == 'Flight'][cyto].dropna()\n",
    "    g2 = df[df['Group'] == 'Ground'][cyto].dropna()\n",
    "    if len(g1) < 2 or len(g2) < 2: continue\n",
    "    stat, p = mannwhitneyu(g1, g2)\n",
    "    effect = 1 - (2 * stat) / (len(g1) * len(g2))\n",
    "    results.append([cyto, g1.mean(), g2.mean(), g1.mean() - g2.mean(), effect, p])\n",
    "\n",
    "# results DataFrame\n",
    "res_df = pd.DataFrame(results, columns=['Cytokine', 'Flight_Mean', 'Ground_Mean', \n",
    "                                        'Mean_Diff', 'Effect_Size', 'p_value'])\n",
    "res_df['p_adj'] = fdrcorrection(res_df['p_value'])[1]\n",
    "print(\"\\nSimplified Cytokine Comparison:\")\n",
    "print(res_df.sort_values('p_adj').round(4))\n",
    "\n",
    "# Simple ML Accuracy (Logistic Regression)\n",
    "X = df[cytokines].dropna()\n",
    "y = LabelEncoder().fit_transform(df.loc[X.index, 'Group'])\n",
    "X_train, X_test, y_train, y_test = train_test_split(X, y, stratify=y, random_state=42)\n",
    "model = LogisticRegression(max_iter=1000).fit(X_train, y_train)\n",
    "acc = accuracy_score(y_test, model.predict(X_test))\n",
    "print(f\"\\nClassification Accuracy (Logistic Regression): {acc*100:.2f}%\")\n"
   ]
  }
 ],
 "metadata": {
  "kernelspec": {
   "display_name": "base",
   "language": "python",
   "name": "python3"
  },
  "language_info": {
   "codemirror_mode": {
    "name": "ipython",
    "version": 3
   },
   "file_extension": ".py",
   "mimetype": "text/x-python",
   "name": "python",
   "nbconvert_exporter": "python",
   "pygments_lexer": "ipython3",
   "version": "3.12.7"
  }
 },
 "nbformat": 4,
 "nbformat_minor": 5
}
